{
 "cells": [
  {
   "cell_type": "code",
   "execution_count": 1,
   "id": "impossible-peninsula",
   "metadata": {},
   "outputs": [],
   "source": [
    "import math as m\n",
    "from matplotlib import pyplot as plt\n",
    "import numpy as np\n",
    "import Point as Po\n",
    "import Linea as L"
   ]
  },
  {
   "cell_type": "code",
   "execution_count": 32,
   "id": "victorian-necklace",
   "metadata": {},
   "outputs": [],
   "source": [
    "EPS = 0.00001\n",
    "class Poligono:\n",
    "    def __init__(self, k, ver):\n",
    "        self.vertices = ver\n",
    "        self.n = k\n",
    "        self.caras = [L.Linea.obtenLinea(self.vertices[i],self.vertices[i+1]) for i in range(0, self.n)]\n",
    "    \n",
    "    def VisPol(self):\n",
    "        for i in range(0, self.n ):\n",
    "            xmin = min(self.vertices[i].x, self.vertices[i+1].x)\n",
    "            xmax = max(self.vertices[i].x, self.vertices[i+1].x)\n",
    "            X = np.arange(xmin, xmax, 0.01)\n",
    "            plt.plot(X, self.caras[i].eval(X), color=\"black\")\n",
    "    \n",
    "    def dentro(self, pt):\n",
    "        if self.n == 0:\n",
    "            return False\n",
    "        for i in range(0, self.n):\n",
    "            if pt == self.vertices[i]:\n",
    "                return True\n",
    "            if Po.Point.collinear(self.vertices[i], self.vertices[i + 1], pt):\n",
    "                u = self.vertices[i]\n",
    "                w = self.vertices[i + 1]\n",
    "                if pt.x >= min(u.x,w.x) and pt.x <= max(u.x, w.x):\n",
    "                    if pt.y >= min(u.y, w.y) and pt.y <= min(u.y, w.y):\n",
    "                        return True\n",
    "        suma = 0\n",
    "        for i in range(0, self.n):\n",
    "            if(Po.Vec.ccw(pt, self.vertices[i], self.vertices[i+1])):\n",
    "                suma = suma + Po.Vec.angle(self.vertices[i], pt, self.vertices[i+1])\n",
    "            else:\n",
    "                suma = suma - Po.Vec.angle(self.vertices[i], pt, self.vertices[i+1])\n",
    "        return abs(suma - 2*m.pi) < EPS\n",
    "    \n",
    "    #finds de convex combination of a point inside of a polygon\n",
    "    def combinacion(self, x):\n",
    "        q = L.Linea.obtenLinea(self.vertices[0], x)\n",
    "        x1 = 0\n",
    "        x2 = 0\n",
    "        z = Po.Point(0,0)\n",
    "        for i in range(0,self.n + 1):\n",
    "            z = L.Linea.interseca(q,self.caras[i])\n",
    "            if(z == self.vertices[0]):\n",
    "                continue\n",
    "            if(self.dentro(z)):\n",
    "                if(z == self.vertices[i]):\n",
    "                    x1 = i\n",
    "                    x2 = -1\n",
    "                elif z == self.vertices[i+1]:\n",
    "                    x1 = i + 1\n",
    "                    x2 = -1\n",
    "                else:\n",
    "                    x1 = i\n",
    "                    x2 = i + 1\n",
    "                break\n",
    "        a = Po.Point(0,0)\n",
    "        b = Po.Point(0,0)\n",
    "        lambd = 0\n",
    "        if x2 != -1:\n",
    "            lambd = 0\n",
    "            a = self.vertices[x1]\n",
    "            b = self.vertices[x2]\n",
    "            if(a.x != b.x):\n",
    "                lambd = (z.x - b.x) / (a.x - b.x)\n",
    "            else:\n",
    "                lambd = (z.y - b.y) / (a.y - b.y)\n",
    "        else:\n",
    "            lambd = 1\n",
    "            x2 = x1\n",
    "        gamma = 0\n",
    "        a = self.vertices[0]\n",
    "        b = z\n",
    "        if(a.x != b.x):\n",
    "            gamma =(x.x - b.x) / (a.x - b.x)\n",
    "        else:\n",
    "            gamma = (x.y - b.y) / (a.y - b.y)\n",
    "        \n",
    "        a1 = gamma\n",
    "        a2 = (1-gamma)*lambd\n",
    "        a3 = (1-gamma) *(1-lambd)\n",
    "        return a1,a2,a3,x1,x2\n",
    "            \n",
    "    def show(self,x):\n",
    "        a1,a2,a3,x1,x2 = self.combinacion(x)\n",
    "        print(\"({},{}) = \".format(x.x,x.y),end = \" \")\n",
    "        print(\"{}({},{}) + \".format(a1,self.vertices[0].x,self.vertices[0].y), end=\" \")\n",
    "        print(\"{}({},{}) + \".format(a2,self.vertices[x1].x,self.vertices[x1].y), end= \" \")\n",
    "        print(\"{}({},{})\".format(a3,self.vertices[x2].x, self.vertices[x2].y))\n",
    "        self.VisPol()\n",
    "        plt.plot(x.x,x.y,'ro')\n",
    "                "
   ]
  },
  {
   "cell_type": "code",
   "execution_count": 33,
   "id": "occasional-olympus",
   "metadata": {},
   "outputs": [
    {
     "data": {
      "image/png": "[encoded data removed]",
      "text/plain": [
       "<Figure size 432x288 with 1 Axes>"
      ]
     },
     "metadata": {
      "needs_background": "light"
     },
     "output_type": "display_data"
    }
   ],
   "source": [
    "k = 6\n",
    "ver = [Po.Point(0,3), Po.Point(2,5), Po.Point(5,4), Po.Point(6,2), Po.Point(4,0), Po.Point(2,1),Po.Point(0,3)]\n",
    "P = Poligono(k,ver)\n",
    "P.VisPol()"
   ]
  },
  {
   "cell_type": "code",
   "execution_count": 34,
   "id": "historic-anchor",
   "metadata": {},
   "outputs": [
    {
     "name": "stdout",
     "output_type": "stream",
     "text": [
      "(3,2.5) =  0.5(0,3) +  0.5(6,2) +  0.0(6,2)\n"
     ]
    },
    {
     "data": {
      "image/png": "[encoded data removed]",
      "text/plain": [
       "<Figure size 432x288 with 1 Axes>"
      ]
     },
     "metadata": {
      "needs_background": "light"
     },
     "output_type": "display_data"
    }
   ],
   "source": [
    "q = Po.Point(3,2.5)\n",
    "P.show(q)"
   ]
  },
  {
   "cell_type": "code",
   "execution_count": null,
   "id": "numerical-phase",
   "metadata": {},
   "outputs": [],
   "source": []
  },
  {
   "cell_type": "code",
   "execution_count": null,
   "id": "spoken-upset",
   "metadata": {},
   "outputs": [],
   "source": []
  },
  {
   "cell_type": "code",
   "execution_count": null,
   "id": "going-category",
   "metadata": {},
   "outputs": [],
   "source": []
  }
 ],
 "metadata": {
  "kernelspec": {
   "display_name": "Python 3",
   "language": "python",
   "name": "python3"
  },
  "language_info": {
   "codemirror_mode": {
    "name": "ipython",
    "version": 3
   },
   "file_extension": ".py",
   "mimetype": "text/x-python",
   "name": "python",
   "nbconvert_exporter": "python",
   "pygments_lexer": "ipython3",
   "version": "3.7.8"
  }
 },
 "nbformat": 4,
 "nbformat_minor": 5
}
