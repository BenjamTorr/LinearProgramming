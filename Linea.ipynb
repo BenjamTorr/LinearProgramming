{
 "cells": [
  {
   "cell_type": "code",
   "execution_count": 38,
   "id": "sitting-access",
   "metadata": {},
   "outputs": [],
   "source": [
    "import math as m\n",
    "import matplotlib\n",
    "import numpy as np\n",
    "import Point"
   ]
  },
  {
   "cell_type": "code",
   "execution_count": 58,
   "id": "swiss-discovery",
   "metadata": {},
   "outputs": [],
   "source": [
    "class Linea:\n",
    "    def __init__(self, p, c, is_y0):\n",
    "        self.m = p\n",
    "        self.b = c\n",
    "        self.y0 = is_y0\n",
    "        \n",
    "    def eval(self, x):\n",
    "        return  self.m * x + self.b\n",
    "    \n",
    "    def __eq__(self, b):\n",
    "        return self.m == b.m and self.b == a.b\n",
    "    \n",
    "    def obtenLinea(a, b):\n",
    "        if a.x == b.x:\n",
    "            return Linea(1, -a.x, True)\n",
    "        else:\n",
    "            k = (b.y - a. y) / (b.x - a.x)\n",
    "            return Linea(k, a.y - k * a.x, False)\n",
    "    \n",
    "    def interseca(self, q):\n",
    "        if(self.m == q.m):\n",
    "            return \"Colineales\"\n",
    "        else:\n",
    "            k = (q.c - a.c) /(a.m - q.b)\n",
    "            return Point(k, self.eval(k))\n",
    "    "
   ]
  },
  {
   "cell_type": "code",
   "execution_count": 56,
   "id": "associate-samoa",
   "metadata": {},
   "outputs": [
    {
     "data": {
      "text/plain": [
       "array([ 2,  3,  4,  5,  6,  7,  8,  9, 10, 11, 12, 13, 14, 15, 16, 17, 18,\n",
       "       19, 20, 21, 22, 23, 24, 25, 26, 27, 28, 29, 30, 31, 32, 33])"
      ]
     },
     "execution_count": 56,
     "metadata": {},
     "output_type": "execute_result"
    }
   ],
   "source": []
  },
  {
   "cell_type": "code",
   "execution_count": null,
   "id": "divided-liberty",
   "metadata": {},
   "outputs": [],
   "source": []
  },
  {
   "cell_type": "code",
   "execution_count": null,
   "id": "remarkable-daily",
   "metadata": {},
   "outputs": [],
   "source": []
  }
 ],
 "metadata": {
  "kernelspec": {
   "display_name": "Python 3",
   "language": "python",
   "name": "python3"
  },
  "language_info": {
   "codemirror_mode": {
    "name": "ipython",
    "version": 3
   },
   "file_extension": ".py",
   "mimetype": "text/x-python",
   "name": "python",
   "nbconvert_exporter": "python",
   "pygments_lexer": "ipython3",
   "version": "3.7.8"
  }
 },
 "nbformat": 4,
 "nbformat_minor": 5
}
