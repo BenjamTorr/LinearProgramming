{
 "cells": [
  {
   "cell_type": "code",
   "execution_count": 1,
   "id": "prescription-contents",
   "metadata": {},
   "outputs": [],
   "source": [
    "import matplotlib\n",
    "import numpy\n",
    "import math as m"
   ]
  },
  {
   "cell_type": "code",
   "execution_count": 5,
   "id": "iraqi-grocery",
   "metadata": {},
   "outputs": [],
   "source": [
    "EPS = 0.00001\n",
    "\n",
    "class Point:\n",
    "    def __init__(self, a_x, a_y):\n",
    "        self.x = a_x\n",
    "        self.y = a_y\n",
    "        \n",
    "    def __eq__(self, a):\n",
    "        if(self.x == a.x and self.y == a.y):\n",
    "            return True\n",
    "        else:\n",
    "            return False\n",
    "        \n",
    "    def collinear(p, q, r):\n",
    "        return (abs(cross(Vec(p,q),Vec(p,r)))) < EPS\n",
    "        \n",
    "class Vec:\n",
    "    def __init__(self, a, b):\n",
    "        self.x = b.x - a.x\n",
    "        self.y = b.y - a.y\n",
    "        \n",
    "    #producto cruz de dos vectores\n",
    "    def cross(a, b):\n",
    "        return a.x * b.y - a.y * b.x\n",
    "    \n",
    "    # regresa si el punto se encuentra a la izqueirda\n",
    "    def ccw(p, q, r):\n",
    "        return (cross(Vec(p,q),Vec(p,r))) >= 0\n",
    "    \n",
    "    #regresa el producto punto\n",
    "    def dot(a, b):\n",
    "        return a.x * b.x + a.y * b.y\n",
    "    \n",
    "    def norm_sq(self):\n",
    "        return self.x * self.x + self.y * self.y\n",
    "    \n",
    "    def angle(a, o, b):\n",
    "        oa = Vec(o, a)\n",
    "        ob = Vec(o, b)\n",
    "        return m.acos(dot(oa, ob) / m.sqrt(oa.norm_sq() * ob.norm_sq()))\n",
    "    "
   ]
  },
  {
   "cell_type": "code",
   "execution_count": null,
   "id": "velvet-resort",
   "metadata": {},
   "outputs": [],
   "source": []
  }
 ],
 "metadata": {
  "kernelspec": {
   "display_name": "Python 3",
   "language": "python",
   "name": "python3"
  },
  "language_info": {
   "codemirror_mode": {
    "name": "ipython",
    "version": 3
   },
   "file_extension": ".py",
   "mimetype": "text/x-python",
   "name": "python",
   "nbconvert_exporter": "python",
   "pygments_lexer": "ipython3",
   "version": "3.7.8"
  }
 },
 "nbformat": 4,
 "nbformat_minor": 5
}
